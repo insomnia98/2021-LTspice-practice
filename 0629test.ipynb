{
  "nbformat": 4,
  "nbformat_minor": 0,
  "metadata": {
    "colab": {
      "name": "0629test",
      "provenance": [],
      "collapsed_sections": [],
      "authorship_tag": "ABX9TyNUj+CzPtgRNWXtdj6TOjEM",
      "include_colab_link": true
    },
    "kernelspec": {
      "name": "python3",
      "display_name": "Python 3"
    },
    "language_info": {
      "name": "python"
    }
  },
  "cells": [
    {
      "cell_type": "markdown",
      "metadata": {
        "id": "view-in-github",
        "colab_type": "text"
      },
      "source": [
        "<a href=\"https://colab.research.google.com/github/insomnia98/2021-LTspice-practice/blob/main/0629test.ipynb\" target=\"_parent\"><img src=\"https://colab.research.google.com/assets/colab-badge.svg\" alt=\"Open In Colab\"/></a>"
      ]
    },
    {
      "cell_type": "code",
      "execution_count": 8,
      "metadata": {
        "colab": {
          "base_uri": "https://localhost:8080/",
          "height": 502
        },
        "id": "MyFC4BnQVfU7",
        "outputId": "efe63b8d-15ee-48e2-fcdd-eabbd58297e8"
      },
      "outputs": [
        {
          "output_type": "execute_result",
          "data": {
            "text/plain": [
              "     Drain eCurrent(IdVg_Vd_300K_n31_des) Y  \\\n",
              "0                              1.350000e-17   \n",
              "1                              1.350000e-17   \n",
              "2                              1.350000e-17   \n",
              "3                              1.350000e-17   \n",
              "4                              1.350000e-17   \n",
              "..                                      ...   \n",
              "215                            1.163735e-04   \n",
              "216                            1.204173e-04   \n",
              "217                            1.244873e-04   \n",
              "218                            1.285821e-04   \n",
              "219                            1.302637e-04   \n",
              "\n",
              "     Drain eCurrent(IdVg_Vd_300K_n33_des) Y  \\\n",
              "0                              1.340000e-17   \n",
              "1                              1.340000e-17   \n",
              "2                              1.340000e-17   \n",
              "3                              1.340000e-17   \n",
              "4                              1.340000e-17   \n",
              "..                                      ...   \n",
              "215                            1.044977e-04   \n",
              "216                            1.084209e-04   \n",
              "217                            1.123724e-04   \n",
              "218                            1.163513e-04   \n",
              "219                            1.179204e-04   \n",
              "\n",
              "     Drain eCurrent(IdVg_Vd_300K_n34_des) Y  \n",
              "0                              1.340000e-17  \n",
              "1                              1.340000e-17  \n",
              "2                              1.340000e-17  \n",
              "3                              1.350000e-17  \n",
              "4                              1.350000e-17  \n",
              "..                                      ...  \n",
              "215                            1.123666e-04  \n",
              "216                            1.164596e-04  \n",
              "217                            1.205768e-04  \n",
              "218                            1.247171e-04  \n",
              "219                            1.261717e-04  \n",
              "\n",
              "[220 rows x 3 columns]"
            ],
            "text/html": [
              "\n",
              "  <div id=\"df-39686965-8c19-4c20-8eb2-fc71de11fdc9\">\n",
              "    <div class=\"colab-df-container\">\n",
              "      <div>\n",
              "<style scoped>\n",
              "    .dataframe tbody tr th:only-of-type {\n",
              "        vertical-align: middle;\n",
              "    }\n",
              "\n",
              "    .dataframe tbody tr th {\n",
              "        vertical-align: top;\n",
              "    }\n",
              "\n",
              "    .dataframe thead th {\n",
              "        text-align: right;\n",
              "    }\n",
              "</style>\n",
              "<table border=\"1\" class=\"dataframe\">\n",
              "  <thead>\n",
              "    <tr style=\"text-align: right;\">\n",
              "      <th></th>\n",
              "      <th>Drain eCurrent(IdVg_Vd_300K_n31_des) Y</th>\n",
              "      <th>Drain eCurrent(IdVg_Vd_300K_n33_des) Y</th>\n",
              "      <th>Drain eCurrent(IdVg_Vd_300K_n34_des) Y</th>\n",
              "    </tr>\n",
              "  </thead>\n",
              "  <tbody>\n",
              "    <tr>\n",
              "      <th>0</th>\n",
              "      <td>1.350000e-17</td>\n",
              "      <td>1.340000e-17</td>\n",
              "      <td>1.340000e-17</td>\n",
              "    </tr>\n",
              "    <tr>\n",
              "      <th>1</th>\n",
              "      <td>1.350000e-17</td>\n",
              "      <td>1.340000e-17</td>\n",
              "      <td>1.340000e-17</td>\n",
              "    </tr>\n",
              "    <tr>\n",
              "      <th>2</th>\n",
              "      <td>1.350000e-17</td>\n",
              "      <td>1.340000e-17</td>\n",
              "      <td>1.340000e-17</td>\n",
              "    </tr>\n",
              "    <tr>\n",
              "      <th>3</th>\n",
              "      <td>1.350000e-17</td>\n",
              "      <td>1.340000e-17</td>\n",
              "      <td>1.350000e-17</td>\n",
              "    </tr>\n",
              "    <tr>\n",
              "      <th>4</th>\n",
              "      <td>1.350000e-17</td>\n",
              "      <td>1.340000e-17</td>\n",
              "      <td>1.350000e-17</td>\n",
              "    </tr>\n",
              "    <tr>\n",
              "      <th>...</th>\n",
              "      <td>...</td>\n",
              "      <td>...</td>\n",
              "      <td>...</td>\n",
              "    </tr>\n",
              "    <tr>\n",
              "      <th>215</th>\n",
              "      <td>1.163735e-04</td>\n",
              "      <td>1.044977e-04</td>\n",
              "      <td>1.123666e-04</td>\n",
              "    </tr>\n",
              "    <tr>\n",
              "      <th>216</th>\n",
              "      <td>1.204173e-04</td>\n",
              "      <td>1.084209e-04</td>\n",
              "      <td>1.164596e-04</td>\n",
              "    </tr>\n",
              "    <tr>\n",
              "      <th>217</th>\n",
              "      <td>1.244873e-04</td>\n",
              "      <td>1.123724e-04</td>\n",
              "      <td>1.205768e-04</td>\n",
              "    </tr>\n",
              "    <tr>\n",
              "      <th>218</th>\n",
              "      <td>1.285821e-04</td>\n",
              "      <td>1.163513e-04</td>\n",
              "      <td>1.247171e-04</td>\n",
              "    </tr>\n",
              "    <tr>\n",
              "      <th>219</th>\n",
              "      <td>1.302637e-04</td>\n",
              "      <td>1.179204e-04</td>\n",
              "      <td>1.261717e-04</td>\n",
              "    </tr>\n",
              "  </tbody>\n",
              "</table>\n",
              "<p>220 rows × 3 columns</p>\n",
              "</div>\n",
              "      <button class=\"colab-df-convert\" onclick=\"convertToInteractive('df-39686965-8c19-4c20-8eb2-fc71de11fdc9')\"\n",
              "              title=\"Convert this dataframe to an interactive table.\"\n",
              "              style=\"display:none;\">\n",
              "        \n",
              "  <svg xmlns=\"http://www.w3.org/2000/svg\" height=\"24px\"viewBox=\"0 0 24 24\"\n",
              "       width=\"24px\">\n",
              "    <path d=\"M0 0h24v24H0V0z\" fill=\"none\"/>\n",
              "    <path d=\"M18.56 5.44l.94 2.06.94-2.06 2.06-.94-2.06-.94-.94-2.06-.94 2.06-2.06.94zm-11 1L8.5 8.5l.94-2.06 2.06-.94-2.06-.94L8.5 2.5l-.94 2.06-2.06.94zm10 10l.94 2.06.94-2.06 2.06-.94-2.06-.94-.94-2.06-.94 2.06-2.06.94z\"/><path d=\"M17.41 7.96l-1.37-1.37c-.4-.4-.92-.59-1.43-.59-.52 0-1.04.2-1.43.59L10.3 9.45l-7.72 7.72c-.78.78-.78 2.05 0 2.83L4 21.41c.39.39.9.59 1.41.59.51 0 1.02-.2 1.41-.59l7.78-7.78 2.81-2.81c.8-.78.8-2.07 0-2.86zM5.41 20L4 18.59l7.72-7.72 1.47 1.35L5.41 20z\"/>\n",
              "  </svg>\n",
              "      </button>\n",
              "      \n",
              "  <style>\n",
              "    .colab-df-container {\n",
              "      display:flex;\n",
              "      flex-wrap:wrap;\n",
              "      gap: 12px;\n",
              "    }\n",
              "\n",
              "    .colab-df-convert {\n",
              "      background-color: #E8F0FE;\n",
              "      border: none;\n",
              "      border-radius: 50%;\n",
              "      cursor: pointer;\n",
              "      display: none;\n",
              "      fill: #1967D2;\n",
              "      height: 32px;\n",
              "      padding: 0 0 0 0;\n",
              "      width: 32px;\n",
              "    }\n",
              "\n",
              "    .colab-df-convert:hover {\n",
              "      background-color: #E2EBFA;\n",
              "      box-shadow: 0px 1px 2px rgba(60, 64, 67, 0.3), 0px 1px 3px 1px rgba(60, 64, 67, 0.15);\n",
              "      fill: #174EA6;\n",
              "    }\n",
              "\n",
              "    [theme=dark] .colab-df-convert {\n",
              "      background-color: #3B4455;\n",
              "      fill: #D2E3FC;\n",
              "    }\n",
              "\n",
              "    [theme=dark] .colab-df-convert:hover {\n",
              "      background-color: #434B5C;\n",
              "      box-shadow: 0px 1px 3px 1px rgba(0, 0, 0, 0.15);\n",
              "      filter: drop-shadow(0px 1px 2px rgba(0, 0, 0, 0.3));\n",
              "      fill: #FFFFFF;\n",
              "    }\n",
              "  </style>\n",
              "\n",
              "      <script>\n",
              "        const buttonEl =\n",
              "          document.querySelector('#df-39686965-8c19-4c20-8eb2-fc71de11fdc9 button.colab-df-convert');\n",
              "        buttonEl.style.display =\n",
              "          google.colab.kernel.accessAllowed ? 'block' : 'none';\n",
              "\n",
              "        async function convertToInteractive(key) {\n",
              "          const element = document.querySelector('#df-39686965-8c19-4c20-8eb2-fc71de11fdc9');\n",
              "          const dataTable =\n",
              "            await google.colab.kernel.invokeFunction('convertToInteractive',\n",
              "                                                     [key], {});\n",
              "          if (!dataTable) return;\n",
              "\n",
              "          const docLinkHtml = 'Like what you see? Visit the ' +\n",
              "            '<a target=\"_blank\" href=https://colab.research.google.com/notebooks/data_table.ipynb>data table notebook</a>'\n",
              "            + ' to learn more about interactive tables.';\n",
              "          element.innerHTML = '';\n",
              "          dataTable['output_type'] = 'display_data';\n",
              "          await google.colab.output.renderOutput(dataTable, element);\n",
              "          const docLink = document.createElement('div');\n",
              "          docLink.innerHTML = docLinkHtml;\n",
              "          element.appendChild(docLink);\n",
              "        }\n",
              "      </script>\n",
              "    </div>\n",
              "  </div>\n",
              "  "
            ]
          },
          "metadata": {},
          "execution_count": 8
        }
      ],
      "source": [
        "import pandas as pd\n",
        "name_file='test.csv'\n",
        "#columns = ['Drain eCurrent(IdVg_Vd_300K_n31_des) Y', 'Drain eCurrent(IdVg_Vd_300K_n33_des) Y', 'Drain eCurrent(IdVg_Vd_300K_n34_des) Y']\n",
        "pd.read_csv(name_file)"
      ]
    },
    {
      "cell_type": "code",
      "source": [
        "from PIL import Image\n",
        "import matplotlib.pylab as plt\n",
        "\n",
        "df=pd.DataFrame({\"4\":[0 for x in range(100) ],\n",
        "                 \"5\":[0 for x in range(100) ],\n",
        "                 \"6\":[0 for x in range(100) ]},\n",
        "                 index=[x for x in range(100)])\n",
        "\n",
        "a,b=66.5,66.5\n",
        "img=[x for x in range(3)]\n",
        "img_t=[x for x in range(3)]\n",
        "img[0] = Image.open('/content/4_n31.png')\n",
        "img[1]= Image.open('/content/5_n33.png')\n",
        "img[2] = Image.open('/content/6_n34.png')\n",
        "img_t[0] = Image.open('/content/4_n31.png')\n",
        "img_t[1]= Image.open('/content/5_n33.png')\n",
        "img_t[2] = Image.open('/content/6_n34.png')\n",
        "#lstt=[]\n",
        "for i in range(len(img)):\n",
        "    img[i]=img[i].crop((116-a,(397/2)-b,116+a,(397/2)+b))\n",
        "    img[i]=img[i].resize((10,10))\n",
        "    img_t[i]=img[i]\n",
        "    #plt.imshow(img[i])\n",
        "    #plt.show()\n",
        "    for j in range(0,img[i].size[0]):\n",
        "        for k in range(0,img[i].size[1]):\n",
        "            rgb = list(img[i].getpixel((j,k)))\n",
        "            rgb_max = max(rgb)\n",
        "            rgb_max_index = rgb.index(rgb_max)\n",
        "            rgb[0],rgb[1],rgb[2]=0,0,0\n",
        "            rgb[rgb_max_index]=255\n",
        "            #rgb[rgb_max_index]=rgb_max  -> 축소로 인해 255가 아닌 193등의 값이 들어감\n",
        "            img_t[i].putpixel((j,k),(rgb[0],rgb[1],rgb[2]))\n",
        "            #lstt.append(rgb_max_index)\n",
        "            df.loc[(j*10+k),str(i+4)]=rgb_max_index\n",
        "    #print(lstt)\n",
        "    #print(len(lstt))\n",
        "    #lstt.clear()\n",
        "    plt.imshow(img_t[i])\n",
        "    plt.show()\n"
      ],
      "metadata": {
        "colab": {
          "base_uri": "https://localhost:8080/",
          "height": 761
        },
        "id": "7ZGSciFMK7uJ",
        "outputId": "7740bd2c-7f36-47c3-a06c-6431a53ecc61"
      },
      "execution_count": 64,
      "outputs": [
        {
          "output_type": "display_data",
          "data": {
            "text/plain": [
              "<Figure size 432x288 with 1 Axes>"
            ],
            "image/png": "[encoded data removed]"
          },
          "metadata": {
            "needs_background": "light"
          }
        },
        {
          "output_type": "display_data",
          "data": {
            "text/plain": [
              "<Figure size 432x288 with 1 Axes>"
            ],
            "image/png": "[encoded data removed]"
          },
          "metadata": {
            "needs_background": "light"
          }
        },
        {
          "output_type": "display_data",
          "data": {
            "text/plain": [
              "<Figure size 432x288 with 1 Axes>"
            ],
            "image/png": "[encoded data removed]"
          },
          "metadata": {
            "needs_background": "light"
          }
        }
      ]
    },
    {
      "cell_type": "code",
      "source": [
        "df=df.transpose()\n",
        "print(df)"
      ],
      "metadata": {
        "colab": {
          "base_uri": "https://localhost:8080/"
        },
        "id": "VFPaNlm1kWaO",
        "outputId": "c7356256-a804-440e-b090-e8ad31ed4c17"
      },
      "execution_count": 60,
      "outputs": [
        {
          "output_type": "stream",
          "name": "stdout",
          "text": [
            "   0   1   2   3   4   5   6   7   8   9   ...  90  91  92  93  94  95  96  \\\n",
            "4   2   2   1   0   1   2   2   0   0   0  ...   0   0   0   0   1   1   2   \n",
            "5   0   0   0   0   0   0   0   0   0   1  ...   0   2   2   0   0   1   2   \n",
            "6   2   2   2   2   0   1   0   0   1   1  ...   2   2   1   0   0   0   2   \n",
            "\n",
            "   97  98  99  \n",
            "4   0   0   1  \n",
            "5   2   0   1  \n",
            "6   2   2   1  \n",
            "\n",
            "[3 rows x 100 columns]\n"
          ]
        }
      ]
    },
    {
      "cell_type": "code",
      "source": [
        "df.to_csv('df.csv')"
      ],
      "metadata": {
        "id": "jfTrDTeFmRj2"
      },
      "execution_count": 61,
      "outputs": []
    },
    {
      "cell_type": "code",
      "source": [
        "'''\n",
        "for i in range(len(img)):\n",
        "    \n",
        "    t=5\n",
        "    \n",
        "    for j in range(0,img_t[i].size[0],5):\n",
        "        for k in range(0,img_t[i].size[1]):\n",
        "            a,b,c = img_t[i].getpixel((j,k))\n",
        "            rgb[0]+=a\n",
        "            rgb[1]+=b\n",
        "            rgb[2]+=c\n",
        "            if (j+1)%t==0 and (k+1)%t==0:\n",
        "                rgb_max = max(rgb)\n",
        "                rgb_max_index = rgb.index(rgb_max)\n",
        "                rgb[0],rgb[1],rgb[2]=0,0,0\n",
        "                rgb[rgb_max_index]=rgb_max\n",
        "                lstt.append(int(rgb_max_index))\n",
        "                #n.putpixel((i//t,j//t),(rgb[0],rgb[1],rgb[2]))\n",
        "                 \n",
        "                rgb[0],rgb[1],rgb[2]=0,0,0\n",
        "    print(lstt)\n",
        "    print(len(lstt))\n",
        "    lstt.clear()\n",
        "'''"
      ],
      "metadata": {
        "colab": {
          "base_uri": "https://localhost:8080/"
        },
        "id": "q9alYapZOgCg",
        "outputId": "480cea0f-8117-4ced-de7e-2732d492dd59"
      },
      "execution_count": 47,
      "outputs": [
        {
          "output_type": "stream",
          "name": "stdout",
          "text": [
            "[0, 2, 2, 2, 2, 1, 0, 0, 0, 1, 1, 2, 2, 2, 1, 0, 0, 0, 0, 0, 1, 1, 1, 1, 1, 1, 1, 1, 1, 2, 2, 2, 1, 1, 0, 1, 0, 0, 0, 0, 0, 0, 0, 0, 0, 1, 2, 2, 2, 2, 2, 2, 0, 0, 1, 1, 0, 0, 0, 0, 0, 0, 0, 0, 0, 1, 2, 2, 2, 1, 2, 2, 0, 0, 1, 1, 0, 0, 0, 0, 0, 0, 0, 0, 1, 2, 2, 2, 0, 1, 1, 2, 0, 0, 0, 0, 0, 0, 0, 0, 0, 1, 0, 0, 1, 2, 0, 0, 0, 0, 0, 0, 0, 0, 0, 0, 0, 0, 0, 1, 0, 1, 0, 0, 1, 1, 0, 0, 0, 0, 0, 0, 0, 0, 0, 0, 0, 0, 1, 1, 0, 1, 0, 0, 1, 0, 0, 0, 0, 0, 0, 0, 1, 1, 1, 1, 1, 1, 1, 2, 0, 0, 0, 0, 0, 0, 0, 0, 0, 0, 0, 0, 2, 2, 2, 2, 2, 2, 1, 0, 0, 0, 0, 0, 0, 0, 1, 1, 0, 0, 0, 0, 1, 1, 1, 1, 2, 2, 1, 1, 0, 0, 0, 0, 0, 1, 2, 2, 0, 0, 0, 0, 0, 0, 0, 1, 2, 2, 2, 2, 0, 0, 0, 0, 0, 1, 1, 1, 0, 0, 0, 0, 1, 1, 1, 1, 2, 2, 2, 1, 0, 0, 0, 0, 0, 0, 0, 0, 0, 0, 0, 0, 2, 2, 1, 1, 2, 2, 1, 0, 0, 0, 0, 0, 0, 0, 0, 0, 0, 0, 0, 0, 2, 2, 1, 1, 2, 2, 1, 0, 0, 0, 0, 0, 1, 1, 0, 0, 0, 0, 0, 0, 0, 0, 1, 2, 0, 0, 0, 0, 0, 0, 0, 0, 1, 1, 0, 0, 0, 0, 1, 1, 1, 1, 2, 0, 0, 0, 0, 1, 0, 0, 0, 0, 1, 1, 0, 0, 0, 1, 1, 2, 2, 2, 1, 0, 0, 0, 1, 1, 0, 0, 0, 0, 1, 1, 0, 0, 0, 1, 1, 2, 2, 2, 1, 0, 0, 0, 1, 1, 0, 0, 0, 0, 0, 0, 0, 0, 2, 1, 1, 0, 2, 2, 1, 0, 0, 0, 1, 1, 0, 0, 0, 0, 0, 0, 0, 0, 2, 1, 1, 0, 2, 2, 1, 0, 0, 0, 1, 2]\n",
            "400\n",
            "[0, 0, 0, 0, 0, 0, 0, 0, 0, 0, 0, 0, 0, 0, 0, 0, 0, 0, 1, 2, 0, 0, 0, 0, 1, 1, 0, 0, 0, 0, 1, 1, 1, 1, 1, 1, 0, 0, 1, 1, 0, 0, 0, 0, 1, 1, 0, 0, 0, 1, 1, 2, 2, 2, 2, 1, 0, 0, 1, 1, 0, 1, 0, 0, 1, 1, 0, 0, 0, 1, 1, 1, 2, 2, 2, 1, 0, 0, 1, 1, 0, 1, 0, 0, 1, 1, 0, 0, 0, 0, 0, 0, 2, 2, 2, 1, 0, 0, 0, 0, 0, 2, 2, 2, 1, 0, 0, 0, 0, 0, 0, 0, 0, 0, 0, 0, 0, 0, 0, 1, 0, 2, 2, 2, 1, 0, 0, 0, 0, 0, 0, 0, 0, 0, 0, 0, 0, 0, 1, 1, 0, 1, 2, 2, 1, 0, 0, 0, 0, 0, 0, 1, 1, 1, 1, 1, 0, 0, 1, 1, 0, 1, 2, 2, 1, 0, 0, 0, 0, 1, 1, 2, 2, 2, 2, 1, 0, 0, 1, 2, 1, 1, 1, 1, 0, 0, 1, 1, 1, 1, 1, 1, 2, 2, 1, 1, 1, 1, 1, 1, 1, 2, 0, 0, 0, 1, 2, 2, 2, 1, 1, 0, 2, 2, 1, 1, 2, 2, 1, 1, 1, 1, 1, 1, 1, 1, 1, 1, 2, 1, 1, 0, 1, 1, 0, 1, 2, 2, 1, 0, 0, 2, 2, 2, 1, 0, 0, 0, 2, 1, 1, 0, 0, 0, 0, 1, 2, 2, 1, 0, 0, 2, 2, 2, 1, 0, 0, 0, 2, 1, 1, 0, 0, 0, 0, 1, 2, 2, 1, 0, 1, 0, 0, 0, 1, 2, 2, 2, 1, 1, 1, 2, 0, 0, 1, 2, 2, 2, 2, 2, 1, 1, 0, 0, 1, 2, 2, 2, 0, 0, 1, 0, 0, 0, 1, 1, 2, 2, 2, 1, 0, 1, 0, 0, 1, 2, 2, 2, 0, 0, 0, 0, 0, 0, 0, 1, 2, 2, 1, 0, 0, 1, 1, 1, 2, 2, 1, 1, 0, 0, 0, 1, 1, 1, 1, 1, 1, 1, 1, 0, 1, 1, 2, 2, 2, 1, 0, 0, 0, 1, 1, 2, 2, 2, 2, 1, 0, 0, 1, 2, 2, 1, 2, 2, 2, 1, 0, 0, 0, 1, 1, 2, 2, 2, 2, 1, 0, 0, 1, 2]\n",
            "400\n",
            "[2, 2, 2, 2, 2, 2, 2, 2, 0, 1, 1, 2, 0, 0, 0, 1, 2, 2, 1, 0, 1, 2, 1, 1, 1, 1, 1, 1, 0, 0, 1, 0, 1, 1, 1, 1, 1, 1, 0, 1, 0, 1, 0, 0, 0, 0, 0, 0, 0, 0, 0, 0, 2, 2, 1, 0, 0, 0, 1, 1, 0, 1, 0, 0, 0, 0, 0, 0, 0, 0, 0, 0, 2, 2, 1, 0, 0, 0, 1, 2, 1, 2, 2, 2, 2, 1, 0, 0, 2, 1, 1, 0, 2, 2, 1, 1, 2, 2, 1, 1, 1, 2, 2, 2, 1, 0, 0, 0, 0, 0, 0, 0, 0, 0, 0, 0, 0, 0, 0, 0, 0, 2, 2, 2, 1, 0, 0, 0, 0, 0, 0, 0, 0, 0, 0, 0, 0, 0, 0, 0, 0, 2, 1, 1, 0, 0, 0, 0, 0, 0, 0, 1, 0, 0, 0, 1, 1, 1, 1, 1, 0, 1, 0, 0, 0, 0, 0, 0, 0, 1, 1, 1, 0, 0, 1, 2, 2, 2, 2, 2, 1, 2, 1, 1, 1, 1, 0, 0, 0, 0, 1, 1, 1, 1, 1, 1, 2, 2, 2, 1, 1, 2, 2, 2, 2, 1, 0, 0, 0, 0, 0, 0, 2, 2, 1, 1, 2, 2, 1, 1, 0, 1, 1, 1, 1, 0, 0, 0, 0, 0, 1, 1, 1, 1, 0, 1, 1, 1, 0, 1, 0, 0, 0, 0, 0, 0, 0, 0, 0, 1, 1, 2, 0, 0, 0, 0, 0, 0, 1, 1, 0, 0, 0, 0, 0, 0, 0, 0, 0, 1, 1, 2, 0, 0, 0, 0, 0, 0, 1, 2, 0, 1, 0, 0, 1, 1, 0, 0, 0, 1, 1, 2, 2, 2, 1, 0, 2, 2, 2, 2, 1, 1, 0, 0, 1, 1, 1, 1, 1, 1, 1, 1, 1, 1, 0, 1, 1, 1, 1, 1, 0, 1, 0, 0, 1, 2, 2, 2, 2, 1, 1, 0, 0, 0, 0, 0, 0, 0, 1, 1, 0, 1, 0, 0, 2, 2, 2, 2, 2, 1, 0, 0, 0, 0, 0, 0, 0, 0, 1, 2, 1, 2, 2, 2, 1, 0, 0, 0, 0, 0, 0, 0, 2, 2, 2, 2, 2, 2, 1, 1, 2, 2, 2, 2, 1, 0, 0, 0, 0, 0, 0, 0, 2, 2, 2, 2, 2, 2, 1, 0]\n",
            "400\n"
          ]
        }
      ]
    },
    {
      "cell_type": "code",
      "source": [
        ""
      ],
      "metadata": {
        "id": "-rczkf0tcMiR"
      },
      "execution_count": null,
      "outputs": []
    }
  ]
}